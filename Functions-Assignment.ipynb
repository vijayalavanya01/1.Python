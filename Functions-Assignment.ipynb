{
 "cells": [
  {
   "cell_type": "code",
   "execution_count": 8,
   "metadata": {},
   "outputs": [
    {
     "name": "stdout",
     "output_type": "stream",
     "text": [
      "Sub-fields in AI are:\n",
      "\n",
      "Machine Learning\n",
      "\n",
      "Neural Network\n",
      "\n",
      "Vision\n",
      "\n",
      "Robotics\n",
      "\n",
      "Speech Processing\n",
      "\n",
      "Natural Language Processing\n",
      "\n"
     ]
    }
   ],
   "source": [
    "print(\"Sub-fields in AI are:\\n\")\n",
    "print(\"Machine Learning\\n\")\n",
    "print(\"Neural Network\\n\")\n",
    "print(\"Vision\\n\")\n",
    "print(\"Robotics\\n\")\n",
    "print(\"Speech Processing\\n\")\n",
    "print(\"Natural Language Processing\\n\")"
   ]
  },
  {
   "cell_type": "code",
   "execution_count": null,
   "metadata": {},
   "outputs": [],
   "source": []
  },
  {
   "cell_type": "code",
   "execution_count": null,
   "metadata": {},
   "outputs": [],
   "source": []
  },
  {
   "cell_type": "code",
   "execution_count": 10,
   "metadata": {},
   "outputs": [],
   "source": [
    "#Domain of AI\n",
    "\n",
    "def Subfields():\n",
    "    print(\"Sub-fields in AI are:\\n\")\n",
    "    print(\"Machine Learning\\n\")\n",
    "    print(\"Neural Network\\n\")\n",
    "    print(\"Vision\\n\")\n",
    "    print(\"Robotics\\n\")\n",
    "    print(\"Speech Processing\\n\")\n",
    "    print(\"Natural Language Processing\\n\")\n",
    "        \n",
    "\n",
    "\n",
    "    "
   ]
  },
  {
   "cell_type": "code",
   "execution_count": 12,
   "metadata": {},
   "outputs": [
    {
     "name": "stdout",
     "output_type": "stream",
     "text": [
      "Sub-fields in AI are:\n",
      "\n",
      "Machine Learning\n",
      "\n",
      "Neural Network\n",
      "\n",
      "Vision\n",
      "\n",
      "Robotics\n",
      "\n",
      "Speech Processing\n",
      "\n",
      "Natural Language Processing\n",
      "\n"
     ]
    }
   ],
   "source": [
    "Subfields()\n"
   ]
  },
  {
   "cell_type": "code",
   "execution_count": 13,
   "metadata": {},
   "outputs": [
    {
     "name": "stdout",
     "output_type": "stream",
     "text": [
      "Sub-fields in AI are:\n",
      "\n",
      "Machine Learning\n",
      "\n",
      "Neural Network\n",
      "\n",
      "Vision\n",
      "\n",
      "Robotics\n",
      "\n",
      "Speech Processing\n",
      "\n",
      "Natural Language Processing\n",
      "\n"
     ]
    }
   ],
   "source": [
    "domain = Subfields()"
   ]
  },
  {
   "cell_type": "code",
   "execution_count": 19,
   "metadata": {},
   "outputs": [
    {
     "name": "stdout",
     "output_type": "stream",
     "text": [
      "enter the number2\n",
      "The given number is Even\n"
     ]
    }
   ],
   "source": [
    "num3 = int(input(\"enter the number\"))\n",
    "if(num3%2 == 0):\n",
    "    print(\"The given number is Even\")\n",
    "else:\n",
    "    print(\"the given number is odd\")"
   ]
  },
  {
   "cell_type": "code",
   "execution_count": 84,
   "metadata": {},
   "outputs": [],
   "source": [
    "#To find odd or even\n",
    "\n",
    "def OddEven():\n",
    "        num3 = int(input(\"enter the number\"))\n",
    "        if(num3%2 == 0):\n",
    "            print(\"The given number is Even\")\n",
    "            message = \"The given number is Even\"\n",
    "            return message\n",
    "        else:\n",
    "            print(\"The given number is odd\")\n",
    "            message = \"The given number is odd\"\n",
    "            return message\n",
    "    \n",
    "            \n",
    "            \n",
    "            \n",
    "        \n",
    "        \n",
    "                    \n",
    "                   \n",
    "    \n",
    "             \n",
    "                       \n",
    "                        \n",
    "            \n",
    "        \n",
    "            \n",
    "                   \n",
    "\n",
    "            \n",
    "                \n",
    "            \n",
    "\n",
    "    \n",
    "    \n",
    "   \n",
    "\n",
    "        \n",
    "    \n",
    "    \n",
    "\n",
    "\n"
   ]
  },
  {
   "cell_type": "code",
   "execution_count": 85,
   "metadata": {},
   "outputs": [
    {
     "name": "stdout",
     "output_type": "stream",
     "text": [
      "enter the number3\n",
      "The given number is odd\n"
     ]
    }
   ],
   "source": [
    "odeve= OddEven()\n"
   ]
  },
  {
   "cell_type": "code",
   "execution_count": 65,
   "metadata": {},
   "outputs": [
    {
     "data": {
      "text/plain": [
       "'The given number is odd'"
      ]
     },
     "execution_count": 65,
     "metadata": {},
     "output_type": "execute_result"
    }
   ],
   "source": [
    "odeve"
   ]
  },
  {
   "cell_type": "code",
   "execution_count": 66,
   "metadata": {},
   "outputs": [
    {
     "name": "stdout",
     "output_type": "stream",
     "text": [
      "The given number is odd\n"
     ]
    }
   ],
   "source": [
    "print (odeve)"
   ]
  },
  {
   "cell_type": "code",
   "execution_count": 38,
   "metadata": {},
   "outputs": [
    {
     "data": {
      "text/plain": [
       "[2, 8, 10]"
      ]
     },
     "execution_count": 38,
     "metadata": {},
     "output_type": "execute_result"
    }
   ],
   "source": [
    "list = [2,5,8,10,3,7]\n",
    "[i for i in list if(i%2 ==0)]\n",
    "print()\n",
    "  "
   ]
  },
  {
   "cell_type": "code",
   "execution_count": 37,
   "metadata": {},
   "outputs": [
    {
     "name": "stdout",
     "output_type": "stream",
     "text": [
      "\n",
      "Tuple using List: \n",
      "(1, 2, 4, 5, 6)\n",
      "(1, 2, 4, 5, 6)\n"
     ]
    }
   ],
   "source": [
    "list1 = [1, 2, 4, 5, 6]\n",
    "print(\"\\nTuple using List: \")\n",
    "listtuple = tuple(list1)\n",
    "print(tuple(list1))\n",
    "print(listtuple)"
   ]
  },
  {
   "cell_type": "code",
   "execution_count": null,
   "metadata": {},
   "outputs": [],
   "source": [
    "\n",
    "    "
   ]
  },
  {
   "cell_type": "code",
   "execution_count": 43,
   "metadata": {},
   "outputs": [],
   "source": [
    "#To find eligibility\n",
    "\n",
    "def Elegible():\n",
    "    gender = input(\"enter the gender\")\n",
    "    age = int(input(\"enter the age\"))\n",
    "    print(\"Your Gender:\", gender)\n",
    "    if age >18:\n",
    "        print(\"Eligible\")\n",
    "    else:\n",
    "        print(\"Not Eligible\")\n",
    "\n",
    "    "
   ]
  },
  {
   "cell_type": "code",
   "execution_count": 44,
   "metadata": {},
   "outputs": [
    {
     "name": "stdout",
     "output_type": "stream",
     "text": [
      "enter the genderfemale\n",
      "enter the age23\n",
      "Your Gender: female\n",
      "Eligible\n"
     ]
    }
   ],
   "source": [
    "Elegible()"
   ]
  },
  {
   "cell_type": "code",
   "execution_count": 45,
   "metadata": {},
   "outputs": [
    {
     "name": "stdout",
     "output_type": "stream",
     "text": [
      "Enter the mark190\n",
      "Enter the mark296\n",
      "Enter the mark399\n",
      "Enter the mark496\n",
      "Enter the mark595\n",
      "Total Marks 476\n",
      "95.2\n"
     ]
    }
   ],
   "source": [
    "num1 = int(input(\"Enter the mark1\"))\n",
    "num2 = int(input(\"Enter the mark2\"))\n",
    "num3 = int(input(\"Enter the mark3\"))\n",
    "num4 = int(input(\"Enter the mark4\"))\n",
    "num5 = int(input(\"Enter the mark5\"))\n",
    "sum = num1+num2+num3+num4+num5\n",
    "percentage =sum/5\n",
    "print(\"Total Marks\",sum)\n",
    "print(percentage)\n",
    "\n"
   ]
  },
  {
   "cell_type": "code",
   "execution_count": 46,
   "metadata": {},
   "outputs": [],
   "source": [
    "#To find percentage of numbers\n",
    "\n",
    "def percentage():\n",
    "    num1 = int(input(\"Enter the mark1\"))\n",
    "    num2 = int(input(\"Enter the mark2\"))\n",
    "    num3 = int(input(\"Enter the mark3\"))\n",
    "    num4 = int(input(\"Enter the mark4\"))\n",
    "    num5 = int(input(\"Enter the mark5\"))\n",
    "    sum = num1+num2+num3+num4+num5\n",
    "    percentage =sum/5\n",
    "    print(\"Total Marks\",sum)\n",
    "    print(percentage)\n",
    "    "
   ]
  },
  {
   "cell_type": "code",
   "execution_count": 47,
   "metadata": {},
   "outputs": [
    {
     "name": "stdout",
     "output_type": "stream",
     "text": [
      "Enter the mark199\n",
      "Enter the mark292\n",
      "Enter the mark398\n",
      "Enter the mark499\n",
      "Enter the mark597\n",
      "Total Marks 485\n",
      "97.0\n"
     ]
    }
   ],
   "source": [
    "percentage()"
   ]
  },
  {
   "cell_type": "code",
   "execution_count": 60,
   "metadata": {},
   "outputs": [],
   "source": [
    "#Area of triangle\n",
    "\n",
    "def triangle():\n",
    "    num1 = float(input(\"Enter the Height\"))\n",
    "    num2 = float(input(\"Enter the Breadth\"))\n",
    "    num3 = float(input(\"Enter the Height1\"))\n",
    "    num4 = float(input(\"Enter the Height2\"))\n",
    "    num5 = float(input(\"Enter the Breadth2\"))\n",
    "\n",
    "    Area = float((num1*num2)/2)\n",
    "    perimeter = float(num3+num4+num5)\n",
    "    print(\"Height:\",num1)\n",
    "    print(\"Breadth : \",num2)\n",
    "    print(\"Area formula: (Height*Breadth)/2\")\n",
    "    print(\"Area of Triangle:\",Area)\n",
    "    print(\"Height1 :\",num3)\n",
    "    print(\"Height2 :\",num4)\n",
    "    print(\"Breadth :\",num5)\n",
    "    print(\"Perimeter formula: Height1+Height2+Breadth\")\n",
    "    print(\"Perimeter of Triangle: \",perimeter)\n",
    "\n",
    "\n"
   ]
  },
  {
   "cell_type": "code",
   "execution_count": 61,
   "metadata": {},
   "outputs": [
    {
     "name": "stdout",
     "output_type": "stream",
     "text": [
      "Enter the Height3\n",
      "Enter the Breadth4\n",
      "Enter the Height13\n",
      "Enter the Height24\n",
      "Enter the Breadth245\n",
      "Height: 3.0\n",
      "Breadth :  4.0\n",
      "Area formula: (Height*Breadth)/2\n",
      "Area of Triangle: 6.0\n",
      "Height1 : 3.0\n",
      "Height2 : 4.0\n",
      "Breadth : 45.0\n",
      "Perimeter formula: Height1+Height2+Breadth\n",
      "Perimeter of Triangle:  52.0\n"
     ]
    }
   ],
   "source": [
    "triangle()"
   ]
  },
  {
   "cell_type": "code",
   "execution_count": null,
   "metadata": {},
   "outputs": [],
   "source": []
  }
 ],
 "metadata": {
  "kernelspec": {
   "display_name": "Python 3",
   "language": "python",
   "name": "python3"
  },
  "language_info": {
   "codemirror_mode": {
    "name": "ipython",
    "version": 3
   },
   "file_extension": ".py",
   "mimetype": "text/x-python",
   "name": "python",
   "nbconvert_exporter": "python",
   "pygments_lexer": "ipython3",
   "version": "3.7.4"
  }
 },
 "nbformat": 4,
 "nbformat_minor": 2
}
