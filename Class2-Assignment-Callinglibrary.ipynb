{
 "cells": [
  {
   "cell_type": "code",
   "execution_count": 6,
   "metadata": {},
   "outputs": [],
   "source": [
    "from oops import Multiple"
   ]
  },
  {
   "cell_type": "code",
   "execution_count": 8,
   "metadata": {},
   "outputs": [
    {
     "name": "stdout",
     "output_type": "stream",
     "text": [
      "Enter the Height45\n",
      "Enter the Breadth30\n",
      "Enter the Height123\n",
      "Enter the Height245\n",
      "Enter the Breadth267\n",
      "Height: 45.0\n",
      "Breadth :  30.0\n",
      "Area formula: (Height*Breadth)/2\n",
      "Area of Triangle: 675.0\n",
      "Height1 : 23.0\n",
      "Height2 : 45.0\n",
      "Breadth : 67.0\n",
      "Perimeter formula: Height1+Height2+Breadth\n",
      "Perimeter of Triangle:  135.0\n"
     ]
    }
   ],
   "source": [
    "Multiple.triangle()\n"
   ]
  },
  {
   "cell_type": "code",
   "execution_count": null,
   "metadata": {},
   "outputs": [],
   "source": []
  }
 ],
 "metadata": {
  "kernelspec": {
   "display_name": "Python 3",
   "language": "python",
   "name": "python3"
  },
  "language_info": {
   "codemirror_mode": {
    "name": "ipython",
    "version": 3
   },
   "file_extension": ".py",
   "mimetype": "text/x-python",
   "name": "python",
   "nbconvert_exporter": "python",
   "pygments_lexer": "ipython3",
   "version": "3.7.4"
  }
 },
 "nbformat": 4,
 "nbformat_minor": 2
}
