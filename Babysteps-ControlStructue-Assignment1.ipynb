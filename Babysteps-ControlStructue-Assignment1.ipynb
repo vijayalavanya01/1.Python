{
 "cells": [
  {
   "cell_type": "code",
   "execution_count": 5,
   "metadata": {},
   "outputs": [
    {
     "name": "stdout",
     "output_type": "stream",
     "text": [
      "Welcome to Assignment-1\n"
     ]
    }
   ],
   "source": [
    "print(\"Welcome to Assignment-1\")"
   ]
  },
  {
   "cell_type": "code",
   "execution_count": 6,
   "metadata": {},
   "outputs": [
    {
     "name": "stdout",
     "output_type": "stream",
     "text": [
      "enter te first number10\n",
      "enter te first number20\n",
      "Num1= 10\n",
      "Num2= 20\n",
      "Add= 30\n"
     ]
    }
   ],
   "source": [
    "Num1 = int(input(\"enter te first number\"))\n",
    "Num2 =  int(input(\"enter te first number\"))\n",
    "Add = Num1+Num2\n",
    "print(\"Num1=\",Num1)\n",
    "print(\"Num2=\",Num2)\n",
    "print(\"Add=\",Add)"
   ]
  },
  {
   "cell_type": "code",
   "execution_count": 14,
   "metadata": {},
   "outputs": [
    {
     "name": "stdout",
     "output_type": "stream",
     "text": [
      "Enter the body mass index18.5\n",
      "Normal Weight\n"
     ]
    }
   ],
   "source": [
    "#Body mass index program\n",
    "BMI =float(input(\"Enter the body mass index\"))\n",
    "if(BMI < 18.5):\n",
    "    print(\"Underweight\")\n",
    "elif((BMI>=18.5) and (BMI<=24.9)):\n",
    "    print(\"Normal Weight\")\n",
    "elif((BMI>=25.5) and (BMI<=29.9)):\n",
    "    print(\"Pre Obesity\")\n",
    "elif((BMI>=30.0) and (BMI<=34.9)):\n",
    "    print(\"Obesity class 1\")\n",
    "elif((BMI>=35.0) and (BMI<=39.9)):\n",
    "    print(\"Obesity class 11\")\n",
    "else:\n",
    "    print(\"Obesity class 111\")\n",
    "    \n"
   ]
  },
  {
   "cell_type": "code",
   "execution_count": null,
   "metadata": {},
   "outputs": [],
   "source": []
  },
  {
   "cell_type": "code",
   "execution_count": null,
   "metadata": {},
   "outputs": [],
   "source": []
  }
 ],
 "metadata": {
  "kernelspec": {
   "display_name": "Python 3",
   "language": "python",
   "name": "python3"
  },
  "language_info": {
   "codemirror_mode": {
    "name": "ipython",
    "version": 3
   },
   "file_extension": ".py",
   "mimetype": "text/x-python",
   "name": "python",
   "nbconvert_exporter": "python",
   "pygments_lexer": "ipython3",
   "version": "3.7.4"
  }
 },
 "nbformat": 4,
 "nbformat_minor": 2
}
