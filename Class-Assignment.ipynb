{
 "cells": [
  {
   "cell_type": "code",
   "execution_count": 44,
   "metadata": {},
   "outputs": [],
   "source": [
    "#Domain of AI\n",
    "class SubfieldsInAI():\n",
    "    \n",
    "    \n",
    "    def Subfields(domain):\n",
    "        \n",
    "        lists = ['Machine Learning','Neural Network','Vision','Robotics','speech processing','Natural Language processing']\n",
    "        if (domain == 'AI'):\n",
    "            \n",
    "            for i in lists:\n",
    "                \n",
    "            \n",
    "                    print(i)\n",
    "\n",
    "                    \n",
    "            for k in lists:\n",
    "                print(\" \")\n",
    "                for i in tuple(k):\n",
    "                    print(i)\n",
    "                    \n",
    "                \n",
    "                    \n",
    "\n",
    "                        \n",
    "                            \n",
    "        else:\n",
    "            print('Domain Mismatch')\n",
    "                    \n",
    "                          \n",
    "                    \n",
    "                           \n",
    "               \n",
    "           \n",
    "                \n",
    "                \n",
    "            \n",
    "          \n",
    "    \n",
    "    \n",
    "        \n",
    "      \n",
    "            \n",
    "   \n",
    "        \n",
    "        \n",
    "             \n",
    "                \n",
    "       \n",
    "            \n",
    "            \n",
    "            \n",
    "                        \n",
    "                \n",
    "               \n",
    "            \n",
    "                \n",
    "     \n",
    "         \n",
    "   \n",
    "        \n",
    "    \n",
    "        \n",
    "    \n",
    "\n",
    "\n",
    "\n",
    "\n",
    "    "
   ]
  },
  {
   "cell_type": "code",
   "execution_count": 45,
   "metadata": {},
   "outputs": [
    {
     "name": "stdout",
     "output_type": "stream",
     "text": [
      "Machine Learning\n",
      "Neural Network\n",
      "Vision\n",
      "Robotics\n",
      "speech processing\n",
      "Natural Language processing\n",
      " \n",
      "M\n",
      "a\n",
      "c\n",
      "h\n",
      "i\n",
      "n\n",
      "e\n",
      " \n",
      "L\n",
      "e\n",
      "a\n",
      "r\n",
      "n\n",
      "i\n",
      "n\n",
      "g\n",
      " \n",
      "N\n",
      "e\n",
      "u\n",
      "r\n",
      "a\n",
      "l\n",
      " \n",
      "N\n",
      "e\n",
      "t\n",
      "w\n",
      "o\n",
      "r\n",
      "k\n",
      " \n",
      "V\n",
      "i\n",
      "s\n",
      "i\n",
      "o\n",
      "n\n",
      " \n",
      "R\n",
      "o\n",
      "b\n",
      "o\n",
      "t\n",
      "i\n",
      "c\n",
      "s\n",
      " \n",
      "s\n",
      "p\n",
      "e\n",
      "e\n",
      "c\n",
      "h\n",
      " \n",
      "p\n",
      "r\n",
      "o\n",
      "c\n",
      "e\n",
      "s\n",
      "s\n",
      "i\n",
      "n\n",
      "g\n",
      " \n",
      "N\n",
      "a\n",
      "t\n",
      "u\n",
      "r\n",
      "a\n",
      "l\n",
      " \n",
      "L\n",
      "a\n",
      "n\n",
      "g\n",
      "u\n",
      "a\n",
      "g\n",
      "e\n",
      " \n",
      "p\n",
      "r\n",
      "o\n",
      "c\n",
      "e\n",
      "s\n",
      "s\n",
      "i\n",
      "n\n",
      "g\n"
     ]
    }
   ],
   "source": [
    "SubfieldsInAI.Subfields('AI')\n"
   ]
  },
  {
   "cell_type": "code",
   "execution_count": 30,
   "metadata": {},
   "outputs": [
    {
     "name": "stdout",
     "output_type": "stream",
     "text": [
      "Machine Learning\n",
      "Neural Network\n",
      "Vision\n",
      "Robotics\n",
      "speech processing\n",
      "Natural Language processing\n"
     ]
    }
   ],
   "source": [
    "domain = SubfieldsInAI.Subfields()"
   ]
  },
  {
   "cell_type": "code",
   "execution_count": null,
   "metadata": {},
   "outputs": [],
   "source": [
    "\n",
    "num3 = int(input(\"enter the number\"))\n",
    "if(num3%2 == 0):\n",
    "    print(\"The given number is Even\")\n",
    "else:\n",
    "    print(\"the given number is odd\")"
   ]
  },
  {
   "cell_type": "code",
   "execution_count": 4,
   "metadata": {},
   "outputs": [],
   "source": [
    "class OddEven:\n",
    "    def OddEven():\n",
    "        num3 = int(input(\"enter the number\"))\n",
    "        if(num3%2 == 0):\n",
    "            print(\"The given number is Even\")\n",
    "            message = \"The given number is Even\"\n",
    "            return message\n",
    "        else:\n",
    "            print(\"The given number is odd\")\n",
    "            message = \"The given number is odd\"\n",
    "            return message\n",
    "        \n",
    "    "
   ]
  },
  {
   "cell_type": "code",
   "execution_count": 5,
   "metadata": {},
   "outputs": [
    {
     "name": "stdout",
     "output_type": "stream",
     "text": [
      "enter the number3\n",
      "The given number is odd\n"
     ]
    }
   ],
   "source": [
    "odeve= OddEven.OddEven()\n"
   ]
  },
  {
   "cell_type": "code",
   "execution_count": 6,
   "metadata": {},
   "outputs": [
    {
     "data": {
      "text/plain": [
       "'The given number is odd'"
      ]
     },
     "execution_count": 6,
     "metadata": {},
     "output_type": "execute_result"
    }
   ],
   "source": [
    "odeve"
   ]
  },
  {
   "cell_type": "code",
   "execution_count": 7,
   "metadata": {},
   "outputs": [
    {
     "name": "stdout",
     "output_type": "stream",
     "text": [
      "The given number is odd\n"
     ]
    }
   ],
   "source": [
    "print (odeve)"
   ]
  },
  {
   "cell_type": "code",
   "execution_count": 8,
   "metadata": {},
   "outputs": [],
   "source": [
    "#To find eligibility\n",
    "\n",
    "class ElegiblityForMarriage:\n",
    "    def Elegible():\n",
    "        gender = input(\"enter the gender\")\n",
    "        age = int(input(\"enter the age\"))\n",
    "        print(\"Your Gender:\", gender)\n",
    "        if age >18:\n",
    "            print(\"Eligible\")\n",
    "        else:\n",
    "            print(\"Not Eligible\")\n",
    "\n",
    "    \n",
    "\n",
    "    \n",
    "    \n",
    "\n",
    "\n",
    "    "
   ]
  },
  {
   "cell_type": "code",
   "execution_count": 9,
   "metadata": {},
   "outputs": [
    {
     "name": "stdout",
     "output_type": "stream",
     "text": [
      "enter the gendermale\n",
      "enter the age30\n",
      "Your Gender: male\n",
      "Eligible\n"
     ]
    }
   ],
   "source": [
    "ElegiblityForMarriage.Elegible()"
   ]
  },
  {
   "cell_type": "code",
   "execution_count": null,
   "metadata": {},
   "outputs": [],
   "source": [
    "num1 = int(input(\"Enter the mark1\"))\n",
    "num2 = int(input(\"Enter the mark2\"))\n",
    "num3 = int(input(\"Enter the mark3\"))\n",
    "num4 = int(input(\"Enter the mark4\"))\n",
    "num5 = int(input(\"Enter the mark5\"))\n",
    "sum = num1+num2+num3+num4+num5\n",
    "percentage =sum/5\n",
    "print(\"Total Marks\",sum)\n",
    "print(percentage)\n",
    "\n"
   ]
  },
  {
   "cell_type": "code",
   "execution_count": 3,
   "metadata": {},
   "outputs": [],
   "source": [
    "#To find percentage of numbers\n",
    "class FindPercent:\n",
    "        def percentage():\n",
    "            num1 = int(input(\"Enter the mark1\"))\n",
    "            num2 = int(input(\"Enter the mark2\"))\n",
    "            num3 = int(input(\"Enter the mark3\"))\n",
    "            num4 = int(input(\"Enter the mark4\"))\n",
    "            num5 = int(input(\"Enter the mark5\"))\n",
    "            sum = num1+num2+num3+num4+num5\n",
    "            percentage =sum/5\n",
    "            print(\"Total Marks\",sum)\n",
    "            print(percentage)\n",
    "\n",
    "    \n",
    "    \n",
    "\n",
    "\n",
    "    "
   ]
  },
  {
   "cell_type": "code",
   "execution_count": 4,
   "metadata": {},
   "outputs": [
    {
     "name": "stdout",
     "output_type": "stream",
     "text": [
      "Enter the mark199\n",
      "Enter the mark298\n",
      "Enter the mark397\n",
      "Enter the mark496\n",
      "Enter the mark595\n",
      "Total Marks 485\n",
      "97.0\n"
     ]
    }
   ],
   "source": [
    "FindPercent.percentage()"
   ]
  },
  {
   "cell_type": "code",
   "execution_count": 13,
   "metadata": {},
   "outputs": [],
   "source": [
    "#Area of triangle\n",
    "class triangle:\n",
    "    def triangle():\n",
    "        num1 = float(input(\"Enter the Height\"))\n",
    "        num2 = float(input(\"Enter the Breadth\"))\n",
    "        num3 = float(input(\"Enter the Height1\"))\n",
    "        num4 = float(input(\"Enter the Height2\"))\n",
    "        num5 = float(input(\"Enter the Breadth2\"))\n",
    "\n",
    "        Area = float((num1*num2)/2)\n",
    "        perimeter = float(num3+num4+num5)\n",
    "        print(\"Height:\",num1)\n",
    "        print(\"Breadth : \",num2)\n",
    "        print(\"Area formula: (Height*Breadth)/2\")\n",
    "        print(\"Area of Triangle:\",Area)\n",
    "        print(\"Height1 :\",num3)\n",
    "        print(\"Height2 :\",num4)\n",
    "        print(\"Breadth :\",num5)\n",
    "        print(\"Perimeter formula: Height1+Height2+Breadth\")\n",
    "        print(\"Perimeter of Triangle: \",perimeter)\n",
    "\n",
    "        \n",
    "    \n",
    "\n",
    "\n",
    "\n",
    "\n"
   ]
  },
  {
   "cell_type": "code",
   "execution_count": 14,
   "metadata": {},
   "outputs": [
    {
     "name": "stdout",
     "output_type": "stream",
     "text": [
      "Enter the Height3\n",
      "Enter the Breadth4\n",
      "Enter the Height145\n",
      "Enter the Height23\n",
      "Enter the Breadth24\n",
      "Height: 3.0\n",
      "Breadth :  4.0\n",
      "Area formula: (Height*Breadth)/2\n",
      "Area of Triangle: 6.0\n",
      "Height1 : 45.0\n",
      "Height2 : 3.0\n",
      "Breadth : 4.0\n",
      "Perimeter formula: Height1+Height2+Breadth\n",
      "Perimeter of Triangle:  52.0\n"
     ]
    }
   ],
   "source": [
    "triangle.triangle()"
   ]
  },
  {
   "cell_type": "code",
   "execution_count": null,
   "metadata": {},
   "outputs": [],
   "source": []
  }
 ],
 "metadata": {
  "kernelspec": {
   "display_name": "Python 3",
   "language": "python",
   "name": "python3"
  },
  "language_info": {
   "codemirror_mode": {
    "name": "ipython",
    "version": 3
   },
   "file_extension": ".py",
   "mimetype": "text/x-python",
   "name": "python",
   "nbconvert_exporter": "python",
   "pygments_lexer": "ipython3",
   "version": "3.7.4"
  }
 },
 "nbformat": 4,
 "nbformat_minor": 2
}
